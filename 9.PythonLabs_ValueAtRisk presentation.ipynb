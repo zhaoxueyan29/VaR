{
 "cells": [
  {
   "cell_type": "markdown",
   "metadata": {},
   "source": [
    "\n",
    "<p><img align=\"left\" src=\"https://www.cqf.com/themes/custom/creode/logo.svg\" style=\"vertical-align: top; padding-top: 23px;\" width=\"10%\"/>\n",
    "<img align=\"right\" src=\"https://upload.wikimedia.org/wikipedia/commons/c/c3/Python-logo-notext.svg\" style=\"vertical-align: middle;\" width=\"12%\"/>\n",
    "<font color=\"#306998\"><h1><center>Python Labs</center></h1></font></p>\n",
    "<p></p><h1><center>Value At Risk</center></h1>\n",
    "<center><b>Kannan Singaravelu</b></center>\n",
    "<center>kannan.singaravelu@fitchlearning.com</center>\n"
   ]
  },
  {
   "cell_type": "markdown",
   "metadata": {},
   "source": [
    "\n",
    "<h2 id=\"Value-at-Risk\">Value-at-Risk<a class=\"anchor-link\" href=\"#Value-at-Risk\">¶</a></h2><p>Value at Risk - <strong>VaR</strong> - is one of the most important metrics that is used to measures the risk associated with a financial position or a portfolio of financial instruments. VaR can be defined as the maximum loss with a confidence level over a predetermined period. Let's say that the 1-day 95% VaR of our portfolio is $\\$100$. This means that 95% of the time, it is expected that - under normal market conditions - we will not lose more than $100 by holding our portfolio over one day.</p>\n",
    "<p>Three approaches that are commonly used in the industry are</p>\n",
    "<ul>\n",
    "<li><strong>Parametric</strong></li>\n",
    "<li><strong>Historical Simulation</strong> </li>\n",
    "<li><strong>Monte Carlo Simulation</strong></li>\n",
    "</ul>\n"
   ]
  },
  {
   "cell_type": "markdown",
   "metadata": {},
   "source": [
    "\n",
    "<h3 id=\"Import-Libraries\">Import Libraries<a class=\"anchor-link\" href=\"#Import-Libraries\">¶</a></h3>\n"
   ]
  },
  {
   "cell_type": "code",
   "execution_count": 1,
   "metadata": {},
   "outputs": [],
   "source": [
    "\n",
    "import pandas as pd\n",
    "import numpy as np\n",
    "from numpy.linalg import multi_dot\n",
    "\n",
    "from scipy import stats\n",
    "from scipy.stats import norm\n",
    "from tabulate import tabulate\n",
    "\n",
    "# Import matplotlib for visualization\n",
    "import matplotlib\n",
    "import matplotlib.pyplot as plt\n",
    "\n",
    "# Plot settings\n",
    "# plt.style.use('dark_background')\n",
    "matplotlib.rcParams['figure.figsize'] = [24.0, 8.0]\n",
    "matplotlib.rcParams['font.size'] = 10\n",
    "matplotlib.rcParams['lines.linewidth'] = 2.0\n",
    "# matplotlib.rcParams['grid.color'] = 'black'\n"
   ]
  },
  {
   "cell_type": "markdown",
   "metadata": {},
   "source": [
    "\n",
    "<h3 id=\"Retrieve-Data\">Retrieve Data<a class=\"anchor-link\" href=\"#Retrieve-Data\">¶</a></h3><p>We will use the FAANG stocks as before to build for calculation of VaR</p>\n"
   ]
  },
  {
   "cell_type": "code",
   "execution_count": 3,
   "metadata": {},
   "outputs": [
    {
     "data": {
      "text/html": [
       "<div>\n",
       "<style scoped>\n",
       "    .dataframe tbody tr th:only-of-type {\n",
       "        vertical-align: middle;\n",
       "    }\n",
       "\n",
       "    .dataframe tbody tr th {\n",
       "        vertical-align: top;\n",
       "    }\n",
       "\n",
       "    .dataframe thead th {\n",
       "        text-align: right;\n",
       "    }\n",
       "</style>\n",
       "<table border=\"1\" class=\"dataframe\">\n",
       "  <thead>\n",
       "    <tr style=\"text-align: right;\">\n",
       "      <th></th>\n",
       "      <th>AAPL</th>\n",
       "      <th>AMZN</th>\n",
       "      <th>FB</th>\n",
       "      <th>GOOG</th>\n",
       "      <th>NFLX</th>\n",
       "    </tr>\n",
       "    <tr>\n",
       "      <th>Date</th>\n",
       "      <th></th>\n",
       "      <th></th>\n",
       "      <th></th>\n",
       "      <th></th>\n",
       "      <th></th>\n",
       "    </tr>\n",
       "  </thead>\n",
       "  <tbody>\n",
       "    <tr>\n",
       "      <th>2019-05-31</th>\n",
       "      <td>43.034817</td>\n",
       "      <td>1775.069946</td>\n",
       "      <td>177.470001</td>\n",
       "      <td>1103.630005</td>\n",
       "      <td>343.279999</td>\n",
       "    </tr>\n",
       "    <tr>\n",
       "      <th>2019-06-03</th>\n",
       "      <td>42.599720</td>\n",
       "      <td>1692.689941</td>\n",
       "      <td>164.149994</td>\n",
       "      <td>1036.229980</td>\n",
       "      <td>336.630005</td>\n",
       "    </tr>\n",
       "    <tr>\n",
       "      <th>2019-06-04</th>\n",
       "      <td>44.158184</td>\n",
       "      <td>1729.560059</td>\n",
       "      <td>167.500000</td>\n",
       "      <td>1053.050049</td>\n",
       "      <td>353.399994</td>\n",
       "    </tr>\n",
       "    <tr>\n",
       "      <th>2019-06-05</th>\n",
       "      <td>44.871044</td>\n",
       "      <td>1738.500000</td>\n",
       "      <td>168.169998</td>\n",
       "      <td>1042.219971</td>\n",
       "      <td>355.730011</td>\n",
       "    </tr>\n",
       "    <tr>\n",
       "      <th>2019-06-06</th>\n",
       "      <td>45.529827</td>\n",
       "      <td>1754.359985</td>\n",
       "      <td>168.330002</td>\n",
       "      <td>1044.339966</td>\n",
       "      <td>357.130005</td>\n",
       "    </tr>\n",
       "  </tbody>\n",
       "</table>\n",
       "</div>"
      ],
      "text/plain": [
       "                 AAPL         AMZN          FB         GOOG        NFLX\n",
       "Date                                                                   \n",
       "2019-05-31  43.034817  1775.069946  177.470001  1103.630005  343.279999\n",
       "2019-06-03  42.599720  1692.689941  164.149994  1036.229980  336.630005\n",
       "2019-06-04  44.158184  1729.560059  167.500000  1053.050049  353.399994\n",
       "2019-06-05  44.871044  1738.500000  168.169998  1042.219971  355.730011\n",
       "2019-06-06  45.529827  1754.359985  168.330002  1044.339966  357.130005"
      ]
     },
     "execution_count": 3,
     "metadata": {},
     "output_type": "execute_result"
    }
   ],
   "source": [
    "\n",
    "# Load locally stored data\n",
    "df = pd.read_csv('faang_stocks_1.csv', parse_dates=True, index_col=0)['2013':]\n",
    "\n",
    "# Check first 5 values \n",
    "df.head()\n",
    "\n"
   ]
  },
  {
   "cell_type": "markdown",
   "metadata": {},
   "source": [
    "\n",
    "<h3 id=\"Calculate-Returns\">Calculate Returns<a class=\"anchor-link\" href=\"#Calculate-Returns\">¶</a></h3>\n"
   ]
  },
  {
   "cell_type": "code",
   "execution_count": 4,
   "metadata": {},
   "outputs": [],
   "source": [
    "\n",
    "# Calculate daily returns\n",
    "returns = df.pct_change().dropna()\n",
    "\n"
   ]
  },
  {
   "cell_type": "code",
   "execution_count": 5,
   "metadata": {
    "scrolled": false
   },
   "outputs": [
    {
     "data": {
      "image/png": "[encoded data removed]",
      "text/plain": [
       "<Figure size 1728x576 with 1 Axes>"
      ]
     },
     "metadata": {
      "needs_background": "light"
     },
     "output_type": "display_data"
    }
   ],
   "source": [
    "\n",
    "# Visualize AMZN daily returns\n",
    "plt.plot(returns['AMZN'], color='orange')\n",
    "plt.axhline(y=0.10, ls='dotted', color='black')\n",
    "plt.axhline(y=-0.10, ls='dotted', color='black')\n",
    "plt.title('AMZN Daily Returns')\n",
    "plt.grid(True)\n",
    "\n"
   ]
  },
  {
   "cell_type": "markdown",
   "metadata": {},
   "source": [
    "Normality Test"
   ]
  },
  {
   "cell_type": "markdown",
   "metadata": {},
   "source": [
    "In the Parametric VaR, we assumed that the returns are normally distributed. However, in the real world, we know that stock / portfolio returns do not necessarily follow a normal distribution. Let's perform a quick check to determine the normality of the underlying returns and see whether we need to modify our approach in deriving the VaR numbers."
   ]
  },
  {
   "cell_type": "markdown",
   "metadata": {},
   "source": [
    "Shapiro"
   ]
  },
  {
   "cell_type": "markdown",
   "metadata": {},
   "source": [
    "The Shapiro-Wilk test is a test of normality and is used to determine whether or not a sample comes from a normal distribution."
   ]
  },
  {
   "cell_type": "code",
   "execution_count": 6,
   "metadata": {},
   "outputs": [
    {
     "data": {
      "text/plain": [
       "ShapiroResult(statistic=0.9364194273948669, pvalue=1.979616470748624e-09)"
      ]
     },
     "execution_count": 6,
     "metadata": {},
     "output_type": "execute_result"
    }
   ],
   "source": [
    "# normality test\n",
    "stats.shapiro(returns['AMZN']) "
   ]
  },
  {
   "cell_type": "markdown",
   "metadata": {},
   "source": [
    "Our null hypothesis is that Amazon stock daily returns follows a normal distribution. Since the p-value is smaller than 0.05, we to reject the null hypothesis. We have sufficient evidence to say that the sample data does not come from a normal distribution. This result shouldn’t be surprising as the data comes from an empirical distribution."
   ]
  },
  {
   "cell_type": "markdown",
   "metadata": {},
   "source": [
    "Anderson-Darling\n",
    "Alternatively, we can perform an Anderson-Darling Test. It is a goodness of fit test that measures how well the data fit a specified distribution. This test is most commonly used to determine whether or not the data follow a normal distribution."
   ]
  },
  {
   "cell_type": "code",
   "execution_count": 7,
   "metadata": {},
   "outputs": [
    {
     "data": {
      "text/plain": [
       "AndersonResult(statistic=4.69003069958427, critical_values=array([0.568, 0.647, 0.776, 0.905, 1.077]), significance_level=array([15. , 10. ,  5. ,  2.5,  1. ]))"
      ]
     },
     "execution_count": 7,
     "metadata": {},
     "output_type": "execute_result"
    }
   ],
   "source": [
    "# normality test\n",
    "stats.anderson(returns['AMZN'])"
   ]
  },
  {
   "cell_type": "code",
   "execution_count": null,
   "metadata": {},
   "outputs": [],
   "source": []
  },
  {
   "cell_type": "code",
   "execution_count": 8,
   "metadata": {},
   "outputs": [
    {
     "data": {
      "image/png": "[encoded data removed]",
      "text/plain": [
       "<Figure size 1728x576 with 5 Axes>"
      ]
     },
     "metadata": {
      "needs_background": "light"
     },
     "output_type": "display_data"
    }
   ],
   "source": [
    "# Visualize daily returns\n",
    "fig, ax = plt.subplots(1,len(df.columns), sharey=True) \n",
    "label, color = df.columns, ['green', 'red', 'cornflowerblue', 'orange', 'blue']\n",
    "\n",
    "for i in range(len(df.columns)):\n",
    "    ax[i].plot(returns.iloc[:,i], label=label[i], color=color[i]) \n",
    "    ax[i].axhline(y=0, color='k', linestyle='--') \n",
    "    ax[i].legend(loc=4) \n",
    "\n",
    "fig.suptitle('Daily Returns'); "
   ]
  },
  {
   "cell_type": "markdown",
   "metadata": {},
   "source": [
    "\n",
    "<h3 id=\"Parametric-VaR\">Parametric VaR<a class=\"anchor-link\" href=\"#Parametric-VaR\">¶</a></h3><p>The Variance-covariance is a parametric method which assumes (almost always) that the returns are normally distributed. In this method, we first calculate the mean and standard deviation of the returns to derive the risk metric. Based on the assumption of normality, we can generalise,\n",
    "<br/><br/>\n",
    "$$ VaR = position * (\\mu - z * \\sigma) $$</p>\n",
    "<table>\n",
    "<thead><tr>\n",
    "<th style=\"text-align:left\">Confidence Level</th>\n",
    "<th style=\"text-align:left\">Value At Risk     </th>\n",
    "</tr>\n",
    "</thead>\n",
    "<tbody>\n",
    "<tr>\n",
    "<td style=\"text-align:left\"><code>90%</code></td>\n",
    "<td style=\"text-align:left\">$\\mu$ - $1.29$ * $\\sigma$ </td>\n",
    "</tr>\n",
    "<tr>\n",
    "<td style=\"text-align:left\"><code>95%</code></td>\n",
    "<td style=\"text-align:left\">$\\mu$ - $1.64$ * $\\sigma$             </td>\n",
    "</tr>\n",
    "<tr>\n",
    "<td style=\"text-align:left\"><code>99%</code></td>\n",
    "<td style=\"text-align:left\">$\\mu$ - $2.33$ * $\\sigma$             </td>\n",
    "</tr>\n",
    "</tbody>\n",
    "</table>\n",
    "<p>where, $\\mu$ is the return, $\\sigma$ is the volatility and $z$ is the number of standard deviation from the mean.</p>\n"
   ]
  },
  {
   "cell_type": "code",
   "execution_count": 9,
   "metadata": {},
   "outputs": [],
   "source": [
    "\n",
    "# Calculate mean and standard deviation \n",
    "mean = np.mean(returns['AMZN'])\n",
    "stdev = np.std(returns['AMZN'])\n",
    "\n",
    "# Calculate VaR at difference confidence level\n",
    "VaR_90 = norm.ppf(1-0.90,mean,stdev)\n",
    "VaR_95 = norm.ppf(1-0.95,mean,stdev) #norm.ppf(0.05)\n",
    "VaR_99 = norm.ppf(1-0.99,mean,stdev)\n",
    "\n"
   ]
  },
  {
   "cell_type": "code",
   "execution_count": 10,
   "metadata": {},
   "outputs": [
    {
     "name": "stdout",
     "output_type": "stream",
     "text": [
      "Confidence Level      Value At Risk\n",
      "------------------  ---------------\n",
      "90%                      -0.0231096\n",
      "95%                      -0.0301439\n",
      "99%                      -0.043339\n"
     ]
    }
   ],
   "source": [
    "\n",
    "# Ouput results in tabular format\n",
    "table = [['90%', VaR_90],['95%', VaR_95],['99%', VaR_99] ]\n",
    "header = ['Confidence Level', 'Value At Risk']\n",
    "print(tabulate(table,headers=header))\n",
    "\n"
   ]
  },
  {
   "cell_type": "markdown",
   "metadata": {},
   "source": [
    "\n",
    "<p>Lets now define a VaR function so that we can use it calculate it for individual stocks</p>\n"
   ]
  },
  {
   "cell_type": "code",
   "execution_count": 11,
   "metadata": {},
   "outputs": [],
   "source": [
    "# Plot for Value-At-Risk\n",
    "def plot_var():\n",
    "\n",
    "    # Hard coded for 95% confidence limit\n",
    "    \n",
    "    # Specify confidence level\n",
    "    confidence_level = 0.95\n",
    "\n",
    "    # Standard deviation\n",
    "    z = norm.ppf(1-confidence_level)\n",
    "\n",
    "    # Specify x ranges for plotting\n",
    "    x = np.arange(-6,6,0.1)\n",
    "    x2 = np.arange(-6,z,1/40.)\n",
    "\n",
    "    # Figure text for annotation\n",
    "    note1 ='Red area to the left of the'\n",
    "    note2 ='dotted red line reprsesents'\n",
    "    note3 ='5% of the total area'\n",
    "    note4 ='The curve represents a profit/loss'\n",
    "    note5 ='density function. The 5% VaR is'\n",
    "    note6 ='1.64 standard deviation from the mean'\n",
    "\n",
    "    # Set figure size\n",
    "    plt.figure(figsize=(8, 6))\n",
    "\n",
    "    # Plot probability density function\n",
    "    plt.plot(x, norm.pdf(x, 0, 1), color='orange')   #x 数据范围，均值，标准差\n",
    "\n",
    "    plt.ylim(0,0.5) #取y的范围\n",
    "\n",
    "    # Plot vertical line at confidence limit\n",
    "    plt.axvline(x=z, ymin=0, ymax = 1, linewidth=2, ls='dotted', color='red')\n",
    "\n",
    "    # Fill the left tail from confidence limit\n",
    "    plt.fill_between(x2,norm.pdf(x2, 0, 1), color='red') #填充颜色 数据范围为x2\n",
    "\n",
    "    # Annotate with notes 写notes的位置，0.14是段落开始的y轴，0.5是段落开始的x轴\n",
    "    plt.figtext(0.14,0.5,note1)\n",
    "    plt.figtext(0.14,0.47,note2)\n",
    "    plt.figtext(0.14,0.44,note3)\n",
    "\n",
    "    plt.figtext(0.5,0.85,note4)\n",
    "    plt.figtext(0.5,0.82,note5)\n",
    "    plt.figtext(0.5,0.79,note6)\n",
    "\n",
    "    # Annotate and plot title\n",
    "    plt.annotate(\"\", xy=(-2.5,0.08), xytext=(-2.5,0.18), arrowprops=dict(facecolor='red',shrink=0.001)) #facecolor箭头颜色，shrink箭头尖长度\n",
    "    plt.annotate('z = '+str(np.around(z,2)), xy=(-1.5,0.05)) #画x=-1.64\n",
    "    plt.title(\"VaR at 95% confidence level\")\n"
   ]
  },
  {
   "cell_type": "code",
   "execution_count": 12,
   "metadata": {},
   "outputs": [
    {
     "data": {
      "image/png": "[encoded data removed]",
      "text/plain": [
       "<Figure size 576x432 with 1 Axes>"
      ]
     },
     "metadata": {
      "needs_background": "light"
     },
     "output_type": "display_data"
    }
   ],
   "source": [
    "# Visualize VaR at 95% confidence level\n",
    "plot_var()"
   ]
  },
  {
   "cell_type": "code",
   "execution_count": 13,
   "metadata": {},
   "outputs": [],
   "source": [
    "\n",
    "# VaR function\n",
    "def VaR(symbol, cl=0.95):\n",
    "    mean = np.mean(returns[symbol])\n",
    "    stdev = np.std(returns[symbol])\n",
    "    \n",
    "    return np.around(100*norm.ppf(1-cl,mean,stdev),4)\n",
    "\n"
   ]
  },
  {
   "cell_type": "code",
   "execution_count": 14,
   "metadata": {},
   "outputs": [
    {
     "name": "stdout",
     "output_type": "stream",
     "text": [
      "VaR for FAANG Stocks\n",
      "---------------------------------\n",
      "VaR at 95% CL for AAPL : -3.7834%\n",
      "VaR at 95% CL for AMZN : -3.0144%\n",
      "VaR at 95% CL for FB   : -4.0193%\n",
      "VaR at 95% CL for GOOG : -3.606%\n",
      "VaR at 95% CL for NFLX : -4.1049%\n"
     ]
    }
   ],
   "source": [
    "\n",
    "# VaR for stocks\n",
    "print('VaR for FAANG Stocks')\n",
    "print('---'*11)\n",
    "[print(f'VaR at 95% CL for {stock:4} : {VaR(stock)}%') for stock in df.columns][0]\n",
    "\n"
   ]
  },
  {
   "cell_type": "code",
   "execution_count": null,
   "metadata": {},
   "outputs": [],
   "source": [
    "\n",
    "# Visualize VaR at 95% confidence level\n",
    "\n"
   ]
  },
  {
   "cell_type": "markdown",
   "metadata": {},
   "source": [
    "\n",
    "<p>Now, let's assume that we have 1,000 shares of AMZN's stock on April 29, 2020. What is the maximum loss next day with a confidence level of 99%?</p>\n"
   ]
  },
  {
   "cell_type": "code",
   "execution_count": 15,
   "metadata": {},
   "outputs": [
    {
     "name": "stdout",
     "output_type": "stream",
     "text": [
      "Amazon Holding Value: 2680379.8828125\n",
      "Amazon VaR at 99% confidence level is: -116164.85481107555\n"
     ]
    }
   ],
   "source": [
    "\n",
    "num_of_shares = 1000\n",
    "price = df['AMZN'].iloc[-1]\n",
    "position = num_of_shares * price \n",
    "\n",
    "amzn_var = position * VaR_99\n",
    "\n",
    "print(f'Amazon Holding Value: {position}')\n",
    "print(f'Amazon VaR at 99% confidence level is: {amzn_var}')\n",
    "\n"
   ]
  },
  {
   "cell_type": "markdown",
   "metadata": {},
   "source": [
    "\n",
    "<p>VaR can also be calculated using the above formula at 99% confidence level.</p>\n"
   ]
  },
  {
   "cell_type": "code",
   "execution_count": 16,
   "metadata": {},
   "outputs": [
    {
     "data": {
      "text/plain": [
       "-116164.85481107555"
      ]
     },
     "execution_count": 16,
     "metadata": {},
     "output_type": "execute_result"
    }
   ],
   "source": [
    "\n",
    "# VaR calculation by appling direct formulae\n",
    "position * (mean + norm.ppf(1-0.99) * stdev)         # mean-2.33*stdev\n",
    "\n"
   ]
  },
  {
   "cell_type": "markdown",
   "metadata": {},
   "source": [
    "\n",
    "<h3 id=\"Scaling-VaR\">Scaling VaR<a class=\"anchor-link\" href=\"#Scaling-VaR\">¶</a></h3><p>Now, let's calculate VaR over a 5-day period. To scale it, multiply by square root of time.\n",
    "<br/><br/>\n",
    "$$ VaR = position * (\\mu - z * \\sigma) * \\sqrt{T}$$</p>\n",
    "<p>where, $T$ is the horizon or forecast period.</p>\n"
   ]
  },
  {
   "cell_type": "code",
   "execution_count": 17,
   "metadata": {},
   "outputs": [],
   "source": [
    "\n",
    "forecast_days = 5\n",
    "f_VaR_90 = VaR_90*np.sqrt(forecast_days)\n",
    "f_VaR_95 = VaR_95*np.sqrt(forecast_days)\n",
    "f_VaR_99 = VaR_99*np.sqrt(forecast_days)\n",
    "\n"
   ]
  },
  {
   "cell_type": "code",
   "execution_count": 18,
   "metadata": {},
   "outputs": [
    {
     "name": "stdout",
     "output_type": "stream",
     "text": [
      "Confidence Level      5-Day Forecast Value At Risk\n",
      "------------------  ------------------------------\n",
      "90%                                     -0.0516747\n",
      "95%                                     -0.0674038\n",
      "99%                                     -0.0969088\n"
     ]
    }
   ],
   "source": [
    "\n",
    "ftable = [['90%', f_VaR_90],['95%', f_VaR_95],['99%', f_VaR_99] ]\n",
    "fheader = ['Confidence Level', '5-Day Forecast Value At Risk']\n",
    "print(tabulate(ftable,headers=fheader))\n",
    "\n"
   ]
  },
  {
   "cell_type": "markdown",
   "metadata": {},
   "source": [
    "\n",
    "<p>Let's now calculate AMZN VaR over a 5-day period with a confidence level of 99%</p>\n"
   ]
  },
  {
   "cell_type": "code",
   "execution_count": 19,
   "metadata": {},
   "outputs": [
    {
     "name": "stdout",
     "output_type": "stream",
     "text": [
      "Amazon Holding Value: 2680379.8828125\n",
      "Amazon VaR at 99% confidence level is: -259752.51195395843\n"
     ]
    }
   ],
   "source": [
    "\n",
    "amzn_var_5days = position * f_VaR_99\n",
    "\n",
    "print(f'Amazon Holding Value: {position}')\n",
    "print(f'Amazon VaR at 99% confidence level is: {amzn_var_5days}')\n",
    "\n"
   ]
  },
  {
   "cell_type": "code",
   "execution_count": 20,
   "metadata": {},
   "outputs": [
    {
     "data": {
      "image/png": "[encoded data removed]",
      "text/plain": [
       "<Figure size 576x432 with 1 Axes>"
      ]
     },
     "metadata": {
      "needs_background": "light"
     },
     "output_type": "display_data"
    }
   ],
   "source": [
    "\n",
    "# Scaled VaR over different time horizon\n",
    "plt.figure(figsize=(8,6))\n",
    "plt.plot(range(100),[-100*VaR_95*np.sqrt(x) for x in range(100)])\n",
    "plt.xlabel('Horizon')\n",
    "plt.ylabel('Var 95 (%)')\n",
    "plt.title('VaR_95 Scaled by Time');\n",
    "\n"
   ]
  },
  {
   "cell_type": "markdown",
   "metadata": {},
   "source": [
    "\n",
    "<h3 id=\"Historical-VaR\">Historical VaR<a class=\"anchor-link\" href=\"#Historical-VaR\">¶</a></h3><p>Asset returns do not necessarily follow a normal distribution. An alternative is to use sorted returns to evaluate a VaR. This method uses historical data where returns are sorted in ascending order to calculate maximum possible loss for a given confidence level.</p>\n"
   ]
  },
  {
   "cell_type": "code",
   "execution_count": 21,
   "metadata": {},
   "outputs": [],
   "source": [
    "\n",
    "# Use quantile function for Historical VaR\n",
    "hVaR_90 = returns['AMZN'].quantile(0.10)\n",
    "hVaR_95 = returns['AMZN'].quantile(0.05)\n",
    "hVaR_99 = returns['AMZN'].quantile(0.01)\n",
    "\n"
   ]
  },
  {
   "cell_type": "code",
   "execution_count": 22,
   "metadata": {},
   "outputs": [
    {
     "name": "stdout",
     "output_type": "stream",
     "text": [
      "Confidence Level      Value At Risk\n",
      "------------------  ---------------\n",
      "90%                      -0.0178278\n",
      "95%                      -0.0276336\n",
      "99%                      -0.0530985\n"
     ]
    }
   ],
   "source": [
    "\n",
    "htable = [['90%', hVaR_90],['95%', hVaR_95],['99%', hVaR_99]]\n",
    "print(tabulate(htable,headers=header))\n",
    "\n"
   ]
  },
  {
   "cell_type": "markdown",
   "metadata": {},
   "source": [
    "\n"
   ]
  },
  {
   "cell_type": "markdown",
   "metadata": {},
   "source": [
    "\n",
    "<h3 id=\"Expected-Short-Fall\">Expected Short Fall<a class=\"anchor-link\" href=\"#Expected-Short-Fall\">¶</a></h3><p>VaR is a reasonable measure of risk if assumption of normality holds. Else, we might underestimate the risk if we observe a fat tail or overestimate the risk if tail is thinner. Expected shortfall or Conditional Value at Risk - <strong>CVaR</strong> - is an estimate of expected shortfall sustained in the worst 1 - x% of scenarios. It is defined as the average loss based on the returns that are lower than the VaR threshold. Assume that we have <em><code>n</code></em> return observations, then the expected shortfall is\n",
    "<br/><br/>\n",
    "$$ CVaR = \\frac 1 n * \\sum_{i=1}^{n} R_i[R \\leq hVaR_{cl}]$$</p>\n",
    "<p>where, $R$ is returns, $hVaR$ is historical VaR and $cl$ is the confidence level.</p>\n"
   ]
  },
  {
   "cell_type": "code",
   "execution_count": 23,
   "metadata": {},
   "outputs": [],
   "source": [
    "\n",
    "# Calculate CVar\n",
    "CVaR_90 = returns['AMZN'][returns['AMZN']<=hVaR_90].mean()\n",
    "CVaR_95 = returns['AMZN'][returns['AMZN']<=hVaR_95].mean()\n",
    "CVaR_99 = returns['AMZN'][returns['AMZN']<=hVaR_99].mean()\n",
    "\n"
   ]
  },
  {
   "cell_type": "code",
   "execution_count": 24,
   "metadata": {},
   "outputs": [
    {
     "name": "stdout",
     "output_type": "stream",
     "text": [
      "Confidence Level      Conditional Value At Risk\n",
      "------------------  ---------------------------\n",
      "90%                                  -0.0333641\n",
      "95%                                  -0.0443762\n",
      "99%                                  -0.0696308\n"
     ]
    }
   ],
   "source": [
    "\n",
    "ctable = [['90%', CVaR_90],['95%', CVaR_95],['99%', CVaR_99] ]\n",
    "cheader = ['Confidence Level', 'Conditional Value At Risk']\n",
    "print(tabulate(ctable,headers=cheader))\n",
    "\n"
   ]
  },
  {
   "cell_type": "markdown",
   "metadata": {},
   "source": [
    "\n",
    "<h3 id=\"MonteCarlo-VaR\">MonteCarlo VaR<a class=\"anchor-link\" href=\"#MonteCarlo-VaR\">¶</a></h3><p>The Monte Carlo simulation approach has a number of similarities to historical simulation. It allows us to use actual historical distributions rather than having to assume normal returns. As returns are assumed to follow a normal distribution, we could generate <em><code>n</code></em> simulated returns with the same mean and standard deviation (derived from the daily returns) and then sorted in ascending order to calculate maximum possible loss for a given confidence level.</p>\n"
   ]
  },
  {
   "cell_type": "code",
   "execution_count": 25,
   "metadata": {},
   "outputs": [],
   "source": [
    "\n",
    "# Set seed for reproducibility\n",
    "np.random.seed(12345)\n",
    "\n",
    "# Number of simulations\n",
    "n_sims = 5000\n",
    "\n",
    "# Simulate returns and sort\n",
    "sim_returns = np.random.normal(mean, stdev, n_sims)\n",
    "\n",
    "# Use percentile function for MCVaR\n",
    "MCVaR_90 = np.percentile(sim_returns,10)\n",
    "MCVaR_95 = np.percentile(sim_returns, 5)\n",
    "MCVaR_99 = np.percentile(sim_returns,1)\n",
    "\n"
   ]
  },
  {
   "cell_type": "code",
   "execution_count": 26,
   "metadata": {},
   "outputs": [
    {
     "name": "stdout",
     "output_type": "stream",
     "text": [
      "Confidence Level      Value At Risk\n",
      "------------------  ---------------\n",
      "90%                      -0.0228081\n",
      "95%                      -0.0298137\n",
      "99%                      -0.0423753\n"
     ]
    }
   ],
   "source": [
    "\n",
    "mctable = [['90%', MCVaR_90],['95%', MCVaR_95],['99%', MCVaR_99]]\n",
    "print(tabulate(mctable,headers=header))\n",
    "\n"
   ]
  },
  {
   "cell_type": "markdown",
   "metadata": {},
   "source": [
    "\n",
    "<h2 id=\"Portfolio-VaR\">Portfolio VaR<a class=\"anchor-link\" href=\"#Portfolio-VaR\">¶</a></h2><p>If we know the returns and volatilities of all the assets in the portfolio, we can calculate the VaR for the whole portfolio. We will now derive VaR of an equal weighted portfolio of FAANG stocks.</p>\n"
   ]
  },
  {
   "cell_type": "markdown",
   "metadata": {},
   "source": [
    "\n",
    "<h3 id=\"Assign-Weights\">Assign Weights<a class=\"anchor-link\" href=\"#Assign-Weights\">¶</a></h3>\n"
   ]
  },
  {
   "cell_type": "code",
   "execution_count": 27,
   "metadata": {},
   "outputs": [
    {
     "data": {
      "text/plain": [
       "array([[0.2],\n",
       "       [0.2],\n",
       "       [0.2],\n",
       "       [0.2],\n",
       "       [0.2]])"
      ]
     },
     "execution_count": 27,
     "metadata": {},
     "output_type": "execute_result"
    }
   ],
   "source": [
    "\n",
    "wts = np.array([0.2,0.2,0.2,0.2,0.2])[:,np.newaxis]\n",
    "wts\n",
    "\n"
   ]
  },
  {
   "cell_type": "markdown",
   "metadata": {},
   "source": [
    "\n",
    "<h3 id=\"Portfolio-return\">Portfolio return<a class=\"anchor-link\" href=\"#Portfolio-return\">¶</a></h3>\n"
   ]
  },
  {
   "cell_type": "code",
   "execution_count": 28,
   "metadata": {},
   "outputs": [
    {
     "data": {
      "text/html": [
       "<div>\n",
       "<style scoped>\n",
       "    .dataframe tbody tr th:only-of-type {\n",
       "        vertical-align: middle;\n",
       "    }\n",
       "\n",
       "    .dataframe tbody tr th {\n",
       "        vertical-align: top;\n",
       "    }\n",
       "\n",
       "    .dataframe thead th {\n",
       "        text-align: right;\n",
       "    }\n",
       "</style>\n",
       "<table border=\"1\" class=\"dataframe\">\n",
       "  <thead>\n",
       "    <tr style=\"text-align: right;\">\n",
       "      <th></th>\n",
       "      <th>AAPL</th>\n",
       "      <th>AMZN</th>\n",
       "      <th>FB</th>\n",
       "      <th>GOOG</th>\n",
       "      <th>NFLX</th>\n",
       "    </tr>\n",
       "    <tr>\n",
       "      <th>Date</th>\n",
       "      <th></th>\n",
       "      <th></th>\n",
       "      <th></th>\n",
       "      <th></th>\n",
       "      <th></th>\n",
       "    </tr>\n",
       "  </thead>\n",
       "  <tbody>\n",
       "    <tr>\n",
       "      <th>2019-06-03</th>\n",
       "      <td>-0.010110</td>\n",
       "      <td>-0.046409</td>\n",
       "      <td>-0.075055</td>\n",
       "      <td>-0.061071</td>\n",
       "      <td>-0.019372</td>\n",
       "    </tr>\n",
       "    <tr>\n",
       "      <th>2019-06-04</th>\n",
       "      <td>0.036584</td>\n",
       "      <td>0.021782</td>\n",
       "      <td>0.020408</td>\n",
       "      <td>0.016232</td>\n",
       "      <td>0.049817</td>\n",
       "    </tr>\n",
       "    <tr>\n",
       "      <th>2019-06-05</th>\n",
       "      <td>0.016143</td>\n",
       "      <td>0.005169</td>\n",
       "      <td>0.004000</td>\n",
       "      <td>-0.010284</td>\n",
       "      <td>0.006593</td>\n",
       "    </tr>\n",
       "    <tr>\n",
       "      <th>2019-06-06</th>\n",
       "      <td>0.014682</td>\n",
       "      <td>0.009123</td>\n",
       "      <td>0.000951</td>\n",
       "      <td>0.002034</td>\n",
       "      <td>0.003936</td>\n",
       "    </tr>\n",
       "    <tr>\n",
       "      <th>2019-06-07</th>\n",
       "      <td>0.026617</td>\n",
       "      <td>0.028312</td>\n",
       "      <td>0.029822</td>\n",
       "      <td>0.020779</td>\n",
       "      <td>0.010472</td>\n",
       "    </tr>\n",
       "  </tbody>\n",
       "</table>\n",
       "</div>"
      ],
      "text/plain": [
       "                AAPL      AMZN        FB      GOOG      NFLX\n",
       "Date                                                        \n",
       "2019-06-03 -0.010110 -0.046409 -0.075055 -0.061071 -0.019372\n",
       "2019-06-04  0.036584  0.021782  0.020408  0.016232  0.049817\n",
       "2019-06-05  0.016143  0.005169  0.004000 -0.010284  0.006593\n",
       "2019-06-06  0.014682  0.009123  0.000951  0.002034  0.003936\n",
       "2019-06-07  0.026617  0.028312  0.029822  0.020779  0.010472"
      ]
     },
     "execution_count": 28,
     "metadata": {},
     "output_type": "execute_result"
    }
   ],
   "source": [
    "\n",
    "# Stock returns\n",
    "returns[:5]\n",
    "\n"
   ]
  },
  {
   "cell_type": "code",
   "execution_count": 29,
   "metadata": {},
   "outputs": [
    {
     "data": {
      "text/plain": [
       "array([-4.24035803e-02,  2.89646659e-02,  4.32417750e-03,  6.14511994e-03,\n",
       "        2.32005878e-02,  8.30669094e-03,  5.67056819e-03, -8.53648383e-03,\n",
       "        5.29743937e-03,  4.72600084e-05,  1.91425646e-02,  1.14987767e-02,\n",
       "        2.49943762e-03,  7.35797721e-03,  4.37150640e-03,  1.45603787e-03,\n",
       "       -2.16782703e-02,  5.00765639e-03,  6.19672020e-03,  2.04429533e-04,\n",
       "        1.38012812e-02,  7.37039316e-03,  9.60870407e-03,  5.87787360e-04,\n",
       "       -8.80662805e-03,  1.19541831e-02,  1.17857206e-02, -4.68945671e-03,\n",
       "        2.97357064e-03, -6.77599811e-04, -1.62763989e-03, -8.09785175e-03,\n",
       "       -2.07052169e-02, -1.57982053e-02,  9.27958771e-03,  1.78833048e-03,\n",
       "        8.20329333e-03, -3.78008619e-03,  2.32279967e-02, -8.69071535e-03,\n",
       "       -7.56382471e-03, -5.30120813e-03, -1.05220407e-02, -1.44437893e-02,\n",
       "       -3.85630548e-02,  1.40833207e-02,  3.31372286e-04,  2.71065864e-02,\n",
       "       -1.40393593e-02, -6.66411703e-03,  2.09837083e-02, -3.59016233e-02,\n",
       "        1.97200706e-03,  1.43194048e-02,  1.69327356e-02, -1.34957960e-02,\n",
       "        5.00339705e-03, -4.76508768e-03, -3.01843776e-02,  1.44237971e-02,\n",
       "       -4.86823361e-03,  3.17738150e-03,  1.72522865e-02, -4.12079713e-03,\n",
       "       -1.12747274e-02,  1.35769056e-02,  1.86432073e-02, -7.54016405e-03,\n",
       "        4.76037532e-03, -5.61179258e-03,  1.16637964e-02,  3.44330607e-03,\n",
       "       -1.23133777e-04, -4.64760323e-03,  6.93246062e-03, -2.80383099e-03,\n",
       "       -1.43432210e-03, -1.86247332e-02, -6.25429438e-03, -2.27724681e-02,\n",
       "        2.03602393e-02, -9.10781269e-03, -8.77056780e-03,  9.48343035e-03,\n",
       "       -2.84154911e-03, -1.48483689e-02,  1.04738991e-02,  1.55910015e-02,\n",
       "       -6.06954441e-04, -1.34225367e-02,  6.49954854e-03,  1.34340477e-02,\n",
       "        1.41655916e-02,  1.36080841e-03,  1.25746000e-02,  2.55837523e-03,\n",
       "        9.24940839e-03, -2.06778359e-02,  1.29834088e-02, -1.92188060e-02,\n",
       "        1.25221570e-02,  3.15327996e-03,  6.47477827e-03,  1.29720731e-02,\n",
       "       -1.10440335e-02,  7.88826139e-03,  4.80049160e-03,  1.11415728e-02,\n",
       "        1.09126129e-02, -4.22141953e-03, -3.07153474e-03,  3.60575005e-03,\n",
       "        2.49389330e-03, -1.36617335e-03,  4.12475400e-03, -8.41871857e-03,\n",
       "        5.41757442e-03,  9.97868377e-03,  7.85378478e-03,  5.94739513e-04,\n",
       "       -5.16763127e-03,  2.30766324e-03,  2.93021810e-04,  1.27224289e-02,\n",
       "       -6.67545777e-04,  1.02493200e-02, -4.77192365e-03, -1.16423576e-02,\n",
       "       -7.39401743e-03,  3.30546326e-03,  1.48271586e-03,  1.16824235e-02,\n",
       "       -5.46758773e-03, -6.51339563e-03,  8.20124001e-03, -3.15806675e-03,\n",
       "       -2.16923682e-04,  1.40937818e-02,  9.81322433e-03,  5.92860635e-03,\n",
       "        1.22665083e-02,  1.03980805e-03,  1.50801178e-03, -1.98369090e-03,\n",
       "        1.76293818e-02, -3.04691700e-03, -1.06526480e-02,  2.67863787e-03,\n",
       "        2.28043977e-02, -8.78296994e-03,  1.93628136e-02, -3.23970057e-03,\n",
       "        1.04050673e-02,  8.15683655e-03, -4.19384007e-03,  1.59965605e-02,\n",
       "       -8.87699498e-03,  1.64454534e-03,  6.24759507e-03,  5.71272972e-03,\n",
       "        5.63519757e-04, -6.82890723e-03,  1.38210103e-02, -5.31314227e-03,\n",
       "       -2.25715301e-02,  1.69931513e-02,  7.45460574e-03, -8.91248767e-03,\n",
       "       -5.87577596e-03,  1.59520988e-02,  1.75836065e-02,  1.45953665e-03,\n",
       "        6.45474344e-03,  1.82746887e-03,  1.32188184e-02, -3.70712322e-03,\n",
       "        1.36902728e-02,  1.52336590e-04, -9.18601011e-05,  5.40623332e-03,\n",
       "        4.06564861e-03, -7.52263470e-03, -2.13600406e-02, -4.13103379e-02,\n",
       "       -2.36812434e-02,  1.56218445e-02, -4.50074383e-02,  4.47243164e-03,\n",
       "        4.41466108e-02, -3.50109579e-02,  3.74699862e-02, -3.40751488e-02,\n",
       "       -1.46194952e-02, -6.41365290e-02,  5.56378561e-02, -4.13258496e-02,\n",
       "       -9.04754931e-02,  8.95190799e-02, -1.09454260e-01,  4.80545777e-02,\n",
       "       -1.25221236e-02,  2.63008020e-02, -2.80661077e-02,  1.32816548e-02,\n",
       "        5.44721633e-02, -2.66142807e-02,  4.98232254e-02, -3.39866187e-02,\n",
       "        3.83657365e-02,  4.40346195e-03, -3.93859412e-02,  8.78642585e-03,\n",
       "       -1.78131491e-02,  6.80245872e-02, -1.06280084e-03,  1.80805059e-02,\n",
       "        2.44179197e-03,  3.08513809e-02,  4.14940177e-02,  4.27979124e-03,\n",
       "        1.54655436e-02, -6.32831371e-03,  5.77244172e-04, -2.96133744e-02,\n",
       "        2.42274332e-02,  9.97484802e-03,  1.16769963e-02, -7.63756309e-03,\n",
       "       -2.82963606e-02,  4.54398843e-02,  2.85274839e-02, -2.71399640e-02,\n",
       "        1.55470918e-02,  6.96522707e-03,  1.02505093e-02,  1.09315607e-02,\n",
       "        8.66064998e-03,  1.08260549e-02, -1.73686667e-02, -7.09564667e-03,\n",
       "        7.35121640e-03,  1.25609120e-02,  9.12756481e-03,  2.01627283e-03,\n",
       "        2.32752454e-02, -1.00148224e-02,  1.43352379e-03, -1.07369662e-02,\n",
       "       -1.26906230e-04, -7.12360099e-03,  7.67819509e-03,  1.42224949e-02,\n",
       "        3.42164882e-03, -3.50850216e-03, -1.35124130e-02,  1.77322910e-02,\n",
       "        6.12625618e-03,  2.69466339e-02,  8.63151960e-03, -3.93208220e-02,\n",
       "        2.22380727e-03,  1.25753282e-02,  1.95390295e-02,  8.08827456e-03,\n",
       "        2.60842093e-04,  3.97879405e-03,  1.76202508e-02,  1.14903419e-02,\n",
       "       -2.05261160e-02,  1.03778984e-02, -4.82205090e-02,  1.47921460e-02])"
      ]
     },
     "execution_count": 29,
     "metadata": {},
     "output_type": "execute_result"
    }
   ],
   "source": [
    "\n",
    "port_ret = np.dot(returns,wts)\n",
    "port_ret.flatten()\n",
    "\n"
   ]
  },
  {
   "cell_type": "code",
   "execution_count": 30,
   "metadata": {},
   "outputs": [
    {
     "data": {
      "text/plain": [
       "0.0016547264695402394"
      ]
     },
     "execution_count": 30,
     "metadata": {},
     "output_type": "execute_result"
    }
   ],
   "source": [
    "\n",
    "port_mean = port_ret.mean()\n",
    "port_mean\n",
    "\n"
   ]
  },
  {
   "cell_type": "markdown",
   "metadata": {},
   "source": [
    "\n",
    "<h3 id=\"Portfolio-Volatility\">Portfolio Volatility<a class=\"anchor-link\" href=\"#Portfolio-Volatility\">¶</a></h3>\n"
   ]
  },
  {
   "cell_type": "code",
   "execution_count": 31,
   "metadata": {},
   "outputs": [
    {
     "data": {
      "text/html": [
       "<div>\n",
       "<style scoped>\n",
       "    .dataframe tbody tr th:only-of-type {\n",
       "        vertical-align: middle;\n",
       "    }\n",
       "\n",
       "    .dataframe tbody tr th {\n",
       "        vertical-align: top;\n",
       "    }\n",
       "\n",
       "    .dataframe thead th {\n",
       "        text-align: right;\n",
       "    }\n",
       "</style>\n",
       "<table border=\"1\" class=\"dataframe\">\n",
       "  <thead>\n",
       "    <tr style=\"text-align: right;\">\n",
       "      <th></th>\n",
       "      <th>AAPL</th>\n",
       "      <th>AMZN</th>\n",
       "      <th>FB</th>\n",
       "      <th>GOOG</th>\n",
       "      <th>NFLX</th>\n",
       "    </tr>\n",
       "  </thead>\n",
       "  <tbody>\n",
       "    <tr>\n",
       "      <th>AAPL</th>\n",
       "      <td>0.000619</td>\n",
       "      <td>0.000332</td>\n",
       "      <td>0.000485</td>\n",
       "      <td>0.000461</td>\n",
       "      <td>0.000352</td>\n",
       "    </tr>\n",
       "    <tr>\n",
       "      <th>AMZN</th>\n",
       "      <td>0.000332</td>\n",
       "      <td>0.000376</td>\n",
       "      <td>0.000331</td>\n",
       "      <td>0.000299</td>\n",
       "      <td>0.000325</td>\n",
       "    </tr>\n",
       "    <tr>\n",
       "      <th>FB</th>\n",
       "      <td>0.000485</td>\n",
       "      <td>0.000331</td>\n",
       "      <td>0.000633</td>\n",
       "      <td>0.000462</td>\n",
       "      <td>0.000359</td>\n",
       "    </tr>\n",
       "    <tr>\n",
       "      <th>GOOG</th>\n",
       "      <td>0.000461</td>\n",
       "      <td>0.000299</td>\n",
       "      <td>0.000462</td>\n",
       "      <td>0.000513</td>\n",
       "      <td>0.000328</td>\n",
       "    </tr>\n",
       "    <tr>\n",
       "      <th>NFLX</th>\n",
       "      <td>0.000352</td>\n",
       "      <td>0.000325</td>\n",
       "      <td>0.000359</td>\n",
       "      <td>0.000328</td>\n",
       "      <td>0.000666</td>\n",
       "    </tr>\n",
       "  </tbody>\n",
       "</table>\n",
       "</div>"
      ],
      "text/plain": [
       "          AAPL      AMZN        FB      GOOG      NFLX\n",
       "AAPL  0.000619  0.000332  0.000485  0.000461  0.000352\n",
       "AMZN  0.000332  0.000376  0.000331  0.000299  0.000325\n",
       "FB    0.000485  0.000331  0.000633  0.000462  0.000359\n",
       "GOOG  0.000461  0.000299  0.000462  0.000513  0.000328\n",
       "NFLX  0.000352  0.000325  0.000359  0.000328  0.000666"
      ]
     },
     "execution_count": 31,
     "metadata": {},
     "output_type": "execute_result"
    }
   ],
   "source": [
    "\n",
    "# Covariance matrix\n",
    "returns.cov()\n",
    "\n"
   ]
  },
  {
   "cell_type": "code",
   "execution_count": 32,
   "metadata": {},
   "outputs": [
    {
     "data": {
      "text/plain": [
       "0.02026960368901688"
      ]
     },
     "execution_count": 32,
     "metadata": {},
     "output_type": "execute_result"
    }
   ],
   "source": [
    "\n",
    "# Portfolio volatility\n",
    "port_stdev = np.sqrt(multi_dot([wts.T, returns.cov(), wts]))\n",
    "port_stdev.flatten()[0]\n",
    "\n"
   ]
  },
  {
   "cell_type": "markdown",
   "metadata": {},
   "source": [
    "\n",
    "<h3 id=\"Portfolio-Position\">Portfolio Position<a class=\"anchor-link\" href=\"#Portfolio-Position\">¶</a></h3>\n"
   ]
  },
  {
   "cell_type": "code",
   "execution_count": 33,
   "metadata": {},
   "outputs": [
    {
     "data": {
      "text/plain": [
       "4833222.099304199"
      ]
     },
     "execution_count": 33,
     "metadata": {},
     "output_type": "execute_result"
    }
   ],
   "source": [
    "\n",
    "# Portfolio Position\n",
    "port_pos = (df.iloc[-1] * num_of_shares).sum()\n",
    "port_pos\n",
    "\n"
   ]
  },
  {
   "cell_type": "code",
   "execution_count": 34,
   "metadata": {},
   "outputs": [],
   "source": [
    "\n",
    "# Calculate Portfolio VaR at difference confidence level\n",
    "pVaR_90 = norm.ppf(1-0.90,port_mean,port_stdev).flatten()[0]\n",
    "pVaR_95 = norm.ppf(1-0.95,port_mean,port_stdev).flatten()[0]\n",
    "pVaR_99 = norm.ppf(1-0.99,port_mean,port_stdev).flatten()[0]\n",
    "\n"
   ]
  },
  {
   "cell_type": "code",
   "execution_count": 35,
   "metadata": {},
   "outputs": [
    {
     "data": {
      "text/plain": [
       "-0.03168580467520811"
      ]
     },
     "execution_count": 35,
     "metadata": {},
     "output_type": "execute_result"
    }
   ],
   "source": [
    "\n",
    "pVaR_95\n",
    "\n"
   ]
  },
  {
   "cell_type": "markdown",
   "metadata": {},
   "source": [
    "\n",
    "<h3 id=\"Portfolio-VaR\">Portfolio VaR<a class=\"anchor-link\" href=\"#Portfolio-VaR\">¶</a></h3>\n"
   ]
  },
  {
   "cell_type": "code",
   "execution_count": 36,
   "metadata": {},
   "outputs": [
    {
     "name": "stdout",
     "output_type": "stream",
     "text": [
      "Confidence Level      Value At Risk\n",
      "------------------  ---------------\n",
      "90%                      -0.0243218\n",
      "95%                      -0.0316858\n",
      "99%                      -0.0454994\n"
     ]
    }
   ],
   "source": [
    "\n",
    "# Ouput results in tabular format\n",
    "ptable = [['90%', pVaR_90],['95%', pVaR_95],['99%', pVaR_99]]\n",
    "header = ['Confidence Level', 'Value At Risk']\n",
    "print(tabulate(ptable,headers=header))\n",
    "\n"
   ]
  },
  {
   "cell_type": "markdown",
   "metadata": {},
   "source": [
    "\n",
    "<p>Let's now compare the portfolio VaR numbers with that of the individual stocks</p>\n"
   ]
  },
  {
   "cell_type": "code",
   "execution_count": 37,
   "metadata": {},
   "outputs": [
    {
     "name": "stdout",
     "output_type": "stream",
     "text": [
      "AAPL Holding Value: 8.999e+04\n",
      "AAPL VaR at 95% confidence level: -3.405e+05\n",
      "\n",
      "AMZN Holding Value: 2.68e+06\n",
      "AMZN VaR at 95% confidence level: -8.08e+06\n",
      "\n",
      "FB Holding Value: 2.206e+05\n",
      "FB VaR at 95% confidence level: -8.868e+05\n",
      "\n",
      "GOOG Holding Value: 1.395e+06\n",
      "GOOG VaR at 95% confidence level: -5.03e+06\n",
      "\n",
      "NFLX Holding Value: 4.472e+05\n",
      "NFLX VaR at 95% confidence level: -1.836e+06\n",
      "\n",
      "Portfolio Holding Value: 4.833e+06\n",
      "Portoflio VaR at 95% confidence level: -1.531e+05\n"
     ]
    }
   ],
   "source": [
    "\n",
    "# Iterate over symbols\n",
    "for stock in df.columns:\n",
    "    pos = df[stock].iloc[-1] * num_of_shares\n",
    "    pvar = pos * VaR(stock)\n",
    "    \n",
    "    print(f'{stock} Holding Value: {pos:0.4}') \n",
    "    print(f'{stock} VaR at 95% confidence level: {pvar:0.4}')\n",
    "    print()\n",
    "\n",
    "print(f'Portfolio Holding Value: {port_pos:0.4}')\n",
    "print(f'Portoflio VaR at 95% confidence level: {port_pos * pVaR_95:0.4}')\n",
    "\n"
   ]
  },
  {
   "cell_type": "markdown",
   "metadata": {},
   "source": [
    "\n",
    "<p>The VaR for the current portfolio of $\\$ 4.6$ million is \\$109,356, which is much lesser than the individual VaR numbers. This signifies the effect of diversification by selecting different stocks.</p>\n"
   ]
  },
  {
   "cell_type": "markdown",
   "metadata": {},
   "source": [
    "\n",
    "<h1 id=\"References\">References<a class=\"anchor-link\" href=\"#References\">¶</a></h1><ul>\n",
    "<li><p>Numpy documentation <a href=\"https://docs.scipy.org/doc/numpy/\">https://docs.scipy.org/doc/numpy/</a></p>\n",
    "</li>\n",
    "<li><p>Scipy documentation <a href=\"https://docs.scipy.org/doc/scipy/reference/\">https://docs.scipy.org/doc/scipy/reference/</a></p>\n",
    "</li>\n",
    "<li><p>Paul Wilmott (2007), Paul Wilmott introduces Quantitative Finance</p>\n",
    "</li>\n",
    "</ul>\n"
   ]
  }
 ],
 "metadata": {
  "kernelspec": {
   "display_name": "Python 3 (ipykernel)",
   "language": "python",
   "name": "python3"
  },
  "language_info": {
   "codemirror_mode": {
    "name": "ipython",
    "version": 3
   },
   "file_extension": ".py",
   "mimetype": "text/x-python",
   "name": "python",
   "nbconvert_exporter": "python",
   "pygments_lexer": "ipython3",
   "version": "3.9.12"
  },
  "toc": {
   "base_numbering": 1,
   "nav_menu": {},
   "number_sections": true,
   "sideBar": true,
   "skip_h1_title": false,
   "title_cell": "Table of Contents",
   "title_sidebar": "Contents",
   "toc_cell": false,
   "toc_position": {},
   "toc_section_display": true,
   "toc_window_display": false
  }
 },
 "nbformat": 4,
 "nbformat_minor": 1
}
